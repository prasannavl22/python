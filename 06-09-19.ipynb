{
 "cells": [
  {
   "cell_type": "code",
   "execution_count": 3,
   "metadata": {},
   "outputs": [
    {
     "data": {
      "text/plain": [
       "'name'"
      ]
     },
     "execution_count": 3,
     "metadata": {},
     "output_type": "execute_result"
    }
   ],
   "source": [
    "dict={'k1':'name','k2':'age','k3':'gen'}\n",
    "dict['k1']\n"
   ]
  },
  {
   "cell_type": "code",
   "execution_count": 16,
   "metadata": {},
   "outputs": [
    {
     "name": "stdout",
     "output_type": "stream",
     "text": [
      "contact added successfully\n"
     ]
    }
   ],
   "source": [
    "## Adding a contact\n",
    "##name,phone number\n",
    "contacts={}\n",
    "def addcontact(name,phonenumber):\n",
    "    if name not in contacts:\n",
    "        contacts[name]=phonenumber\n",
    "        print(\"contact added successfully\")\n",
    "    else:\n",
    "        print(\"contact already exists\")\n",
    "addcontact('name1',3214569874)        "
   ]
  },
  {
   "cell_type": "code",
   "execution_count": 17,
   "metadata": {},
   "outputs": [
    {
     "name": "stdout",
     "output_type": "stream",
     "text": [
      "contact added successfully\n"
     ]
    }
   ],
   "source": [
    "## Adding a contact\n",
    "##name,phone number\n",
    "\n",
    "def addcontact(name,phonenumber):\n",
    "    if name not in contacts:\n",
    "        contacts[name]=phonenumber\n",
    "        print(\"contact added successfully\")\n",
    "    else:\n",
    "        print(\"contact already exists\")\n",
    "addcontact('name2',78945613325)        "
   ]
  },
  {
   "cell_type": "code",
   "execution_count": 18,
   "metadata": {},
   "outputs": [
    {
     "data": {
      "text/plain": [
       "{'name1': 3214569874, 'name2': 78945613325}"
      ]
     },
     "execution_count": 18,
     "metadata": {},
     "output_type": "execute_result"
    }
   ],
   "source": [
    "contacts"
   ]
  },
  {
   "cell_type": "code",
   "execution_count": 19,
   "metadata": {},
   "outputs": [
    {
     "name": "stdout",
     "output_type": "stream",
     "text": [
      "doesnot exists\n"
     ]
    }
   ],
   "source": [
    "## searching a contact\n",
    "##using key 'name\"\n",
    "def searchcontact(name):\n",
    "    if name in contacts:\n",
    "        print(name,\":\",contacts[name])\n",
    "    else:\n",
    "        print(\"doesnot exists\")\n",
    "searchcontact('name4')        "
   ]
  },
  {
   "cell_type": "code",
   "execution_count": 20,
   "metadata": {},
   "outputs": [
    {
     "name": "stdout",
     "output_type": "stream",
     "text": [
      "2 contacts added successfully\n"
     ]
    }
   ],
   "source": [
    "##merging new contacts\n",
    "##using update menthod\n",
    "def mergecontacts(newcontacts):\n",
    "    contacts.update(newcontacts)\n",
    "    print(len(newcontacts.keys()),\"contacts added successfully\")\n",
    "newcontacts={'name3':754816932,'name4':369875421}\n",
    "mergecontacts(newcontacts)"
   ]
  },
  {
   "cell_type": "code",
   "execution_count": 27,
   "metadata": {
    "scrolled": true
   },
   "outputs": [
    {
     "name": "stdout",
     "output_type": "stream",
     "text": [
      "contact added successfully\n"
     ]
    }
   ],
   "source": [
    "##Dictionary;mobilecontacts\n",
    "## Add a contact\n",
    "## KEY:'a',value:9987456321\n",
    "mobilecontacts={}\n",
    "def addcontact(name,phonenumber):\n",
    "    if name not in mobilecontacts:\n",
    "        mobilecontacts[name]=phonenumber\n",
    "        print(\"contact added successfully\")\n",
    "    else:\n",
    "        print(\"contact already exists\")\n",
    "addcontact('a',78945613325)        "
   ]
  },
  {
   "cell_type": "code",
   "execution_count": 29,
   "metadata": {},
   "outputs": [
    {
     "name": "stdout",
     "output_type": "stream",
     "text": [
      "contact added successfully\n"
     ]
    }
   ],
   "source": [
    "applemobile={}\n",
    "def addcontact(name,phonenumber):\n",
    "    if name not in applemobile:\n",
    "        applemobile[name]=phonenumber\n",
    "        print(\"contact added successfully\")\n",
    "    else:\n",
    "        print(\"contact already exists\")\n",
    "addcontact('b',9878451532)       "
   ]
  },
  {
   "cell_type": "code",
   "execution_count": 30,
   "metadata": {},
   "outputs": [
    {
     "name": "stdout",
     "output_type": "stream",
     "text": [
      "contact added\n"
     ]
    }
   ],
   "source": [
    "oneplus={}\n",
    "def addcontact(name,phonenumber):\n",
    "    if name not in oneplus:\n",
    "        print(\"contact added\")\n",
    "    else:\n",
    "        print(\"already there\")\n",
    "addcontact('p',9898747454)        "
   ]
  },
  {
   "cell_type": "markdown",
   "metadata": {},
   "source": [
    "## packages and modules"
   ]
  },
  {
   "cell_type": "code",
   "execution_count": 38,
   "metadata": {
    "scrolled": false
   },
   "outputs": [
    {
     "ename": "ImportError",
     "evalue": "cannot import name 'greatestnumber' from 'packages.numerical' (C:\\Users\\aliet30\\Desktop\\problem solving and programming phase 1\\packages\\numerical.py)",
     "output_type": "error",
     "traceback": [
      "\u001b[1;31m---------------------------------------------------------------------------\u001b[0m",
      "\u001b[1;31mImportError\u001b[0m                               Traceback (most recent call last)",
      "\u001b[1;32m<ipython-input-38-9770bdcb5623>\u001b[0m in \u001b[0;36m<module>\u001b[1;34m\u001b[0m\n\u001b[1;32m----> 1\u001b[1;33m \u001b[1;32mfrom\u001b[0m \u001b[0mpackages\u001b[0m\u001b[1;33m.\u001b[0m\u001b[0mnumerical\u001b[0m \u001b[1;32mimport\u001b[0m \u001b[0mgreatestnumber\u001b[0m\u001b[1;33m\u001b[0m\u001b[1;33m\u001b[0m\u001b[0m\n\u001b[0m\u001b[0;32m      2\u001b[0m \u001b[0mgreatestnumber\u001b[0m\u001b[1;33m(\u001b[0m\u001b[1;36m2\u001b[0m\u001b[1;33m,\u001b[0m\u001b[1;36m8.5\u001b[0m\u001b[1;33m,\u001b[0m\u001b[1;36m5\u001b[0m\u001b[1;33m)\u001b[0m\u001b[1;33m\u001b[0m\u001b[1;33m\u001b[0m\u001b[0m\n\u001b[0;32m      3\u001b[0m \u001b[1;33m\u001b[0m\u001b[0m\n",
      "\u001b[1;31mImportError\u001b[0m: cannot import name 'greatestnumber' from 'packages.numerical' (C:\\Users\\aliet30\\Desktop\\problem solving and programming phase 1\\packages\\numerical.py)"
     ]
    }
   ],
   "source": [
    "from packages.numerical import greatestnumber\n",
    "greatestnumber(2,8.5,5)\n",
    "\n"
   ]
  },
  {
   "cell_type": "code",
   "execution_count": 39,
   "metadata": {},
   "outputs": [
    {
     "name": "stdout",
     "output_type": "stream",
     "text": [
      "50\n",
      "66\n",
      "35\n",
      "75\n",
      "21\n",
      "33\n",
      "19\n",
      "63\n",
      "33\n",
      "71\n"
     ]
    }
   ],
   "source": [
    "## generating marks using \"random\" prebuilt function\n",
    "import random\n",
    "def generatemarks(n,lb,ub):\n",
    "    for i in range(0,n):\n",
    "        print(random.randint(lb,ub))#randint is a method\n",
    "generatemarks(10,5,84)        "
   ]
  },
  {
   "cell_type": "code",
   "execution_count": 40,
   "metadata": {},
   "outputs": [
    {
     "name": "stdout",
     "output_type": "stream",
     "text": [
      "2\n",
      "0\n",
      "15\n",
      "10\n",
      "25\n",
      "18\n",
      "12\n",
      "10\n",
      "24\n",
      "19\n",
      "9\n",
      "23\n",
      "17\n",
      "21\n",
      "16\n",
      "13\n",
      "24\n",
      "4\n",
      "1\n",
      "6\n",
      "19\n",
      "4\n",
      "3\n",
      "16\n",
      "11\n"
     ]
    }
   ],
   "source": [
    "import random\n",
    "def generatemarks(n,lb,ub):\n",
    "    for i in range(0,n):\n",
    "        print(random.randint(lb,ub))#randint is a method\n",
    "generatemarks(25,0,25)    "
   ]
  },
  {
   "cell_type": "markdown",
   "metadata": {},
   "source": [
    "# regular expression"
   ]
  },
  {
   "cell_type": "markdown",
   "metadata": {},
   "source": [
    "#[] represent character\n",
    "#^ matches beginning\n",
    "$ matches ending\n",
    "# * number of occurences with 0\n",
    "# + number of occurences without 0\n",
    "# . to match a character\n",
    "# ? for 0 or 1 occurences\n",
    "# | or\n",
    "# {} range set\n",
    "#[0-9]-> any digit\n",
    "#[a-z]->lower case letters\n",
    "#[2468]->2 multiples\n",
    "#^[0-9]{1}$ only single digit\n",
    "#^[0-9]{3}$ only 3 digit\n",
    "#[0-9]*0$-> all multiples of 10\n",
    "#^([1-9][0-9]*[05])|([5]) all multiples of 5\n",
    "#[w][o][r][d] or word searching for a word\n"
   ]
  },
  {
   "cell_type": "code",
   "execution_count": 44,
   "metadata": {},
   "outputs": [],
   "source": [
    "## Function for phonenumber validation using regular expression\n",
    "import re\n",
    "def phonenumbervalidation(number):\n",
    "    number=str(number)\n",
    "    pattern='^[6-9][0-9]{9}$'\n",
    "    if re.match(pattern,number):\n",
    "        print(\"valid\")\n",
    "    else:\n",
    "        print(\"invalid\")\n"
   ]
  },
  {
   "cell_type": "code",
   "execution_count": 45,
   "metadata": {},
   "outputs": [
    {
     "name": "stdout",
     "output_type": "stream",
     "text": [
      "valid\n"
     ]
    }
   ],
   "source": [
    "phonenumbervalidation(6321459874)"
   ]
  },
  {
   "cell_type": "code",
   "execution_count": 46,
   "metadata": {},
   "outputs": [
    {
     "ename": "SyntaxError",
     "evalue": "invalid token (<ipython-input-46-cc91bb68033c>, line 1)",
     "output_type": "error",
     "traceback": [
      "\u001b[1;36m  File \u001b[1;32m\"<ipython-input-46-cc91bb68033c>\"\u001b[1;36m, line \u001b[1;32m1\u001b[0m\n\u001b[1;33m    phonenumbervalidation(0321459874)\u001b[0m\n\u001b[1;37m                                   ^\u001b[0m\n\u001b[1;31mSyntaxError\u001b[0m\u001b[1;31m:\u001b[0m invalid token\n"
     ]
    }
   ],
   "source": [
    "phonenumbervalidation(0321459874)"
   ]
  },
  {
   "cell_type": "code",
   "execution_count": 47,
   "metadata": {},
   "outputs": [
    {
     "name": "stdout",
     "output_type": "stream",
     "text": [
      "invalid\n"
     ]
    }
   ],
   "source": [
    "phonenumbervalidation(63214598749)"
   ]
  },
  {
   "cell_type": "code",
   "execution_count": 48,
   "metadata": {},
   "outputs": [
    {
     "name": "stdout",
     "output_type": "stream",
     "text": [
      "valid\n"
     ]
    }
   ],
   "source": [
    "import re\n",
    "def phonenumbervalidation(number):\n",
    "    pattern='^[6-9][0-9]{9}$'                                                        \n",
    "    if re.match(pattern,number):\n",
    "        print(\"valid\")\n",
    "    else:\n",
    "        print(\"invalid\")\n",
    "phonenumbervalidation('6321459874')"
   ]
  },
  {
   "cell_type": "code",
   "execution_count": 50,
   "metadata": {},
   "outputs": [
    {
     "name": "stdout",
     "output_type": "stream",
     "text": [
      "valid mailid\n"
     ]
    }
   ],
   "source": [
    "import re\n",
    "def emailvalidation(mailid):\n",
    "    pattern='^[a-z0-9][a-z0-9_.]{3,18}[@][a-z0-9]{4,15}[.][a-z]{2,6}$'\n",
    "    if re.match(pattern,mailid):\n",
    "        print(\"valid mailid\")\n",
    "    else:\n",
    "        print(\"invalid mailid\")\n",
    "emailvalidation('prasannav22@gmail.com')        "
   ]
  },
  {
   "cell_type": "markdown",
   "metadata": {},
   "source": [
    "## File handling"
   ]
  },
  {
   "cell_type": "code",
   "execution_count": 52,
   "metadata": {},
   "outputs": [
    {
     "name": "stdout",
     "output_type": "stream",
     "text": [
      "Line 1\n",
      "Line 2\n",
      "Line 3\n"
     ]
    }
   ],
   "source": [
    "f=open(\"data files/data.txt\",\"r\")#read\n",
    "print(f.read())\n",
    "f.close()"
   ]
  },
  {
   "cell_type": "code",
   "execution_count": 57,
   "metadata": {},
   "outputs": [],
   "source": [
    "with open(\"data files/data.txt\",\"a\") as f:#append\n",
    "    f.write(\"Line 4\")    "
   ]
  },
  {
   "cell_type": "code",
   "execution_count": 58,
   "metadata": {},
   "outputs": [],
   "source": [
    "with open(\"data files/data.txt\",\"w\") as f:#write\n",
    "    f.write(\"Line 4\")    "
   ]
  },
  {
   "cell_type": "code",
   "execution_count": 69,
   "metadata": {},
   "outputs": [
    {
     "name": "stdout",
     "output_type": "stream",
     "text": [
      "71\n",
      "92\n",
      "0\n"
     ]
    }
   ],
   "source": [
    "with open(\"data files/data.txt\",'a+') as f:#read and append\n",
    "    f.read()\n",
    "    print(f.tell())\n",
    "    f.write(\"Line 4\\nline 5\\nline6\")\n",
    "    print(f.tell())\n",
    "    f.seek(0)\n",
    "    print(f.tell())\n",
    "    "
   ]
  },
  {
   "cell_type": "code",
   "execution_count": 1,
   "metadata": {},
   "outputs": [
    {
     "name": "stdout",
     "output_type": "stream",
     "text": [
      "['Line 2Line 2']\n"
     ]
    }
   ],
   "source": [
    "with open(\"data files/data.txt\") as f:\n",
    "    print(f.readlines())"
   ]
  },
  {
   "cell_type": "code",
   "execution_count": 3,
   "metadata": {},
   "outputs": [
    {
     "name": "stdout",
     "output_type": "stream",
     "text": [
      "['python', 'programming', 'language']\n"
     ]
    }
   ],
   "source": [
    "with open(\"data files/data.txt\",'r') as f:\n",
    "    fh=f.read()\n",
    "    words=fh.split()\n",
    "    print(words)"
   ]
  },
  {
   "cell_type": "code",
   "execution_count": 4,
   "metadata": {},
   "outputs": [
    {
     "name": "stdout",
     "output_type": "stream",
     "text": [
      "['pyth', 'onprogr', 'amming', 'langua', 'ge']\n"
     ]
    }
   ],
   "source": [
    "with open(\"data files/data.txt\",'r') as f:\n",
    "    fh=f.read()\n",
    "    words=fh.split('$')\n",
    "    print(words)"
   ]
  },
  {
   "cell_type": "code",
   "execution_count": 17,
   "metadata": {},
   "outputs": [
    {
     "name": "stdout",
     "output_type": "stream",
     "text": [
      "pyth$onprogr$amming$langua$ge\n",
      "simple explainations\n",
      "step by step\n"
     ]
    }
   ],
   "source": [
    "def readFile(filepath):\n",
    "    with open(filepath,'r') as f:\n",
    "        filedata=f.read()\n",
    "    return filedata\n",
    "filepath='data files/data.txt'\n",
    "print(readFile(filepath))"
   ]
  },
  {
   "cell_type": "code",
   "execution_count": 14,
   "metadata": {},
   "outputs": [
    {
     "name": "stdout",
     "output_type": "stream",
     "text": [
      "3\n"
     ]
    }
   ],
   "source": [
    "def linecount(filename):\n",
    "    count=0\n",
    "    with open(filename,'r') as f:\n",
    "        for i in f:\n",
    "            count=count+1\n",
    "    return count\n",
    "filename='data files/data.txt'\n",
    "print(linecount(filename))"
   ]
  },
  {
   "cell_type": "code",
   "execution_count": 26,
   "metadata": {},
   "outputs": [
    {
     "name": "stdout",
     "output_type": "stream",
     "text": [
      "9\n"
     ]
    }
   ],
   "source": [
    "import re\n",
    "def wordcount(filepath):\n",
    "    pattern ='[ \\n]'\n",
    "    filedata=readFile(filepath)\n",
    "    count=len(re.split(pattern, filedata))\n",
    "    return count\n",
    "filename='data files/data.txt'\n",
    "print(wordcount(filepath))"
   ]
  },
  {
   "cell_type": "markdown",
   "metadata": {},
   "source": [
    "with open(\"data files/data.txt\",'r') as f:\n",
    "    fh=f.read()\n",
    "    words=fh.split()\n",
    "    #print(words)\n",
    "    unique=[]\n",
    "    for i in words:\n",
    "        if i not in unique:\n",
    "            unique.append(i)\n",
    "    print(unique)"
   ]
  },
  {
   "cell_type": "code",
   "execution_count": null,
   "metadata": {},
   "outputs": [],
   "source": [
    "def wordfrequency(filepath):\n",
    "    with open(filepath,'r') as f:\n",
    "        fh=f.read()\n",
    "    allwords=fh.split()\n",
    "    wordfreq={}\n",
    "    for element in allwords:\n",
    "        if element not in wordfreq:\n",
    "            wordfreq[element]=1\n",
    "        else:\n",
    "            wordfreq[element]+=1\n",
    "        return wordfreq    \n",
    "wordfrequency(filepath)            \n",
    "            "
   ]
  },
  {
   "cell_type": "markdown",
   "metadata": {},
   "source": [
    "## sets"
   ]
  },
  {
   "cell_type": "code",
   "execution_count": 22,
   "metadata": {},
   "outputs": [
    {
     "name": "stdout",
     "output_type": "stream",
     "text": [
      "{8, 'asd', 2, 5}\n"
     ]
    }
   ],
   "source": [
    "l=[\"asd\",2,5,8,\"asd\"]\n",
    "print(set(l))"
   ]
  },
  {
   "cell_type": "code",
   "execution_count": 29,
   "metadata": {},
   "outputs": [
    {
     "name": "stdout",
     "output_type": "stream",
     "text": [
      "None\n"
     ]
    },
    {
     "data": {
      "text/plain": [
       "{2, 22, 30, 'lkj'}"
      ]
     },
     "execution_count": 29,
     "metadata": {},
     "output_type": "execute_result"
    }
   ],
   "source": [
    "s1={\"lkj\",22,30}\n",
    "s1.add(2)\n",
    "s1"
   ]
  },
  {
   "cell_type": "code",
   "execution_count": 33,
   "metadata": {},
   "outputs": [
    {
     "data": {
      "text/plain": [
       "set()"
      ]
     },
     "execution_count": 33,
     "metadata": {},
     "output_type": "execute_result"
    }
   ],
   "source": [
    "s1={\"lkj\",22,30}\n",
    "s2={7,1,\"poi\"}\n",
    "s=s1|s2\n",
    "s=s1&s2\n",
    "s"
   ]
  },
  {
   "cell_type": "code",
   "execution_count": 51,
   "metadata": {},
   "outputs": [
    {
     "name": "stdout",
     "output_type": "stream",
     "text": [
      "12\n",
      "15\n",
      "18\n",
      "21\n",
      "24\n"
     ]
    }
   ],
   "source": [
    "def table(n,lb,ub):\n",
    "    for i in range(lb,ub):\n",
    "        n1=n*i\n",
    "        print(n1)\n",
    "         \n",
    "table(3,4,9)        \n"
   ]
  },
  {
   "cell_type": "code",
   "execution_count": 57,
   "metadata": {},
   "outputs": [
    {
     "name": "stdout",
     "output_type": "stream",
     "text": [
      "[22, 3, 4, 2, 12]\n",
      "[2, 3, 4, 12, 22]\n",
      "22\n",
      "2\n",
      "8.6\n"
     ]
    }
   ],
   "source": [
    "def l():\n",
    "    l=[22,3,4,2,12]\n",
    "    li=[]\n",
    "    for i in l:\n",
    "        if i not in li:\n",
    "            li.append(i)\n",
    "    print(li)\n",
    "    li.sort()\n",
    "    print(li)\n",
    "    max(li)\n",
    "    print(max(li))\n",
    "    min(li)\n",
    "    print(min(li))\n",
    "    average=sum(li)/len(li)\n",
    "    print(average)\n",
    "l()    \n"
   ]
  },
  {
   "cell_type": "code",
   "execution_count": 61,
   "metadata": {},
   "outputs": [
    {
     "name": "stdout",
     "output_type": "stream",
     "text": [
      "2.8284271247461903\n"
     ]
    }
   ],
   "source": [
    "def sqrt(n):\n",
    "    n1=n**0.5\n",
    "    print(n1)\n",
    "sqrt(8)    \n",
    "    "
   ]
  },
  {
   "cell_type": "code",
   "execution_count": null,
   "metadata": {},
   "outputs": [],
   "source": []
  }
 ],
 "metadata": {
  "kernelspec": {
   "display_name": "Python 3",
   "language": "python",
   "name": "python3"
  },
  "language_info": {
   "codemirror_mode": {
    "name": "ipython",
    "version": 3
   },
   "file_extension": ".py",
   "mimetype": "text/x-python",
   "name": "python",
   "nbconvert_exporter": "python",
   "pygments_lexer": "ipython3",
   "version": "3.7.3"
  }
 },
 "nbformat": 4,
 "nbformat_minor": 2
}
