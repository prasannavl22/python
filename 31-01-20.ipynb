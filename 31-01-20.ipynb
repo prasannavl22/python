{
 "cells": [
  {
   "cell_type": "code",
   "execution_count": 11,
   "metadata": {},
   "outputs": [
    {
     "name": "stdout",
     "output_type": "stream",
     "text": [
      "enter lb1\n",
      "enter ub5\n",
      "3\n"
     ]
    }
   ],
   "source": [
    "##inclusive range average\n",
    "lb=int(input(\"enter lb\"))\n",
    "ub=int(input(\"enter ub\"))\n",
    "sum=0\n",
    "for i in range(lb,ub+1):\n",
    "    sum=sum+i\n",
    "    count=ub-lb+1\n",
    "    avg=sum//count\n",
    "print(avg)    \n",
    "    "
   ]
  },
  {
   "cell_type": "code",
   "execution_count": 14,
   "metadata": {},
   "outputs": [
    {
     "data": {
      "text/plain": [
       "14"
      ]
     },
     "execution_count": 14,
     "metadata": {},
     "output_type": "execute_result"
    }
   ],
   "source": [
    "l=[1,12,4,14]\n",
    "max(l)"
   ]
  },
  {
   "cell_type": "code",
   "execution_count": 17,
   "metadata": {},
   "outputs": [
    {
     "name": "stdout",
     "output_type": "stream",
     "text": [
      "[1, 4, 12, 14]\n"
     ]
    }
   ],
   "source": [
    "l.sort()\n",
    "print(l)"
   ]
  },
  {
   "cell_type": "code",
   "execution_count": 37,
   "metadata": {},
   "outputs": [
    {
     "data": {
      "text/plain": [
       "[1, 4, 12]"
      ]
     },
     "execution_count": 37,
     "metadata": {},
     "output_type": "execute_result"
    }
   ],
   "source": [
    "l[:-1]"
   ]
  },
  {
   "cell_type": "code",
   "execution_count": 38,
   "metadata": {},
   "outputs": [
    {
     "data": {
      "text/plain": [
       "[1, 4]"
      ]
     },
     "execution_count": 38,
     "metadata": {},
     "output_type": "execute_result"
    }
   ],
   "source": [
    "l[:-2]"
   ]
  },
  {
   "cell_type": "code",
   "execution_count": 1,
   "metadata": {},
   "outputs": [
    {
     "name": "stdout",
     "output_type": "stream",
     "text": [
      "enter array1 2 3 5\n",
      "1 2 3 5\n"
     ]
    },
    {
     "data": {
      "text/plain": [
       "'5'"
      ]
     },
     "execution_count": 1,
     "metadata": {},
     "output_type": "execute_result"
    }
   ],
   "source": [
    "arr=(input(\"enter array\"))\n",
    "print(arr)\n",
    "max(arr)"
   ]
  },
  {
   "cell_type": "code",
   "execution_count": 2,
   "metadata": {},
   "outputs": [
    {
     "data": {
      "text/plain": [
       "1"
      ]
     },
     "execution_count": 2,
     "metadata": {},
     "output_type": "execute_result"
    }
   ],
   "source": [
    "def linearsearch(li,k):\n",
    "    for i in li:\n",
    "        if i==k:\n",
    "            return 1\n",
    "    else:\n",
    "        return -1\n",
    "linearsearch([22,10,30,7,1],22)    \n",
    "            "
   ]
  },
  {
   "cell_type": "code",
   "execution_count": 15,
   "metadata": {},
   "outputs": [
    {
     "name": "stdout",
     "output_type": "stream",
     "text": [
      "1 : 2\n",
      "2 : 2\n",
      "3 : 2\n",
      "4 : 2\n",
      "5 : 1\n"
     ]
    }
   ],
   "source": [
    "li=[1,1,2,2,3,3,4,4,5]\n",
    "for i in set(li):\n",
    "    print(i,\":\",li.count(i))"
   ]
  },
  {
   "cell_type": "code",
   "execution_count": 16,
   "metadata": {},
   "outputs": [
    {
     "name": "stdout",
     "output_type": "stream",
     "text": [
      "1 : 2\n",
      "2 : 2\n",
      "3 : 2\n",
      "4 : 2\n",
      "5 : 1\n",
      "2\n"
     ]
    }
   ],
   "source": [
    "##max in the frequency\n",
    "li=[1,1,2,2,3,3,4,4,5]\n",
    "l=[]\n",
    "for i in set(li):\n",
    "    print(i,\":\",li.count(i))  \n",
    "    l.append(li.count(i))\n",
    "print(max(l))    "
   ]
  },
  {
   "cell_type": "code",
   "execution_count": 17,
   "metadata": {},
   "outputs": [
    {
     "name": "stdout",
     "output_type": "stream",
     "text": [
      "1 : 2\n",
      "2 : 2\n",
      "3 : 2\n",
      "4 : 2\n",
      "5 : 1\n",
      "[2, 2, 2, 2, 1]\n"
     ]
    }
   ],
   "source": [
    "li=[1,1,2,2,3,3,4,4,5]\n",
    "l1=[]\n",
    "for i in set(li):\n",
    "    print(i,\":\",li.count(i))  \n",
    "    l1.append(li.count(i))\n",
    "    li.sort\n",
    "    \n",
    "print(l1)    "
   ]
  },
  {
   "cell_type": "code",
   "execution_count": 19,
   "metadata": {},
   "outputs": [
    {
     "data": {
      "text/plain": [
       "[2, 1]"
      ]
     },
     "execution_count": 19,
     "metadata": {},
     "output_type": "execute_result"
    }
   ],
   "source": [
    "l1[-2:]"
   ]
  },
  {
   "cell_type": "code",
   "execution_count": 28,
   "metadata": {},
   "outputs": [
    {
     "data": {
      "text/plain": [
       "dict_items([('a', 1), ('b', 12), ('c', 2)])"
      ]
     },
     "execution_count": 28,
     "metadata": {},
     "output_type": "execute_result"
    }
   ],
   "source": [
    "d1={'a':1,'b':12,'c':2}\n",
    "d1.items()"
   ]
  },
  {
   "cell_type": "code",
   "execution_count": null,
   "metadata": {},
   "outputs": [],
   "source": [
    "def klargestFrequency(s,k):\n",
    "    freq={}\n",
    "    for i in s:\n",
    "        if i not in freq.keys():\n",
    "            freq[i]=s.count(i)\n",
    "    values=sorted(freq.values(),reverse=True) \n",
    "    uniqueValues=list(set(values))"
   ]
  },
  {
   "cell_type": "code",
   "execution_count": null,
   "metadata": {},
   "outputs": [],
   "source": []
  }
 ],
 "metadata": {
  "kernelspec": {
   "display_name": "Python 3",
   "language": "python",
   "name": "python3"
  },
  "language_info": {
   "codemirror_mode": {
    "name": "ipython",
    "version": 3
   },
   "file_extension": ".py",
   "mimetype": "text/x-python",
   "name": "python",
   "nbconvert_exporter": "python",
   "pygments_lexer": "ipython3",
   "version": "3.6.5"
  }
 },
 "nbformat": 4,
 "nbformat_minor": 2
}
